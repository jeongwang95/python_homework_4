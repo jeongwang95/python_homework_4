{
 "cells": [
  {
   "cell_type": "markdown",
   "metadata": {},
   "source": [
    "# User-Defined Functions & Scoping"
   ]
  },
  {
   "cell_type": "markdown",
   "metadata": {},
   "source": [
    "## Tasks Today:\n",
    "\n",
    "\n",
    "1) Functions <br>\n",
    " &nbsp;&nbsp;&nbsp;&nbsp; a) User-Defined vs. Built-In Functions <br>\n",
    " &nbsp;&nbsp;&nbsp;&nbsp; b) Accepting Parameters <br>\n",
    " &nbsp;&nbsp;&nbsp;&nbsp; c) Default Parameters <br>\n",
    " &nbsp;&nbsp;&nbsp;&nbsp; d) Making an Argument Optional <br>\n",
    " &nbsp;&nbsp;&nbsp;&nbsp; e) Keyword Arguments <br>\n",
    " &nbsp;&nbsp;&nbsp;&nbsp; f) Returning Values <br>\n",
    " &nbsp;&nbsp;&nbsp;&nbsp; g) *args <br>\n",
    " &nbsp;&nbsp;&nbsp;&nbsp; h) Docstring <br>\n",
    " &nbsp;&nbsp;&nbsp;&nbsp; i) Using a User Function in a Loop <br>\n",
    "2) Scope\n",
    "3) Creating more User-Defined functions "
   ]
  },
  {
   "cell_type": "markdown",
   "metadata": {},
   "source": [
    "# Whiteboard"
   ]
  },
  {
   "cell_type": "code",
   "execution_count": 3,
   "metadata": {},
   "outputs": [
    {
     "name": "stdout",
     "output_type": "stream",
     "text": [
      "Outage\n",
      "Power\n"
     ]
    }
   ],
   "source": [
    "#Create a function that given a list which represents street lights given as a parameter(l_street), determine if an \n",
    "#outage has occurred. A street with a total number of \"F\" greater than or equal to 2 returns \"Outage\", anything below \n",
    "#returns \"Power\"\n",
    "#Example Input: [ 'T', 'F', 'F', 'F' ]\n",
    "#Example Output: \"Outage\"\n",
    "\n",
    "# def check_outage(l_street):\n",
    "#     if l_street.count('F') >= 2:\n",
    "#         return 'Outage'\n",
    "#     else:\n",
    "#         return 'Power'\n",
    "    \n",
    "def check_outage(l_street):\n",
    "    return 'Outage' if l_street.count('F') >= 2 else 'Power'\n",
    "    \n",
    "print(check_outage([ 'T', 'F', 'F', 'F' ]))\n",
    "print(check_outage([ 'T', 'T', 'T', 'F' ]))"
   ]
  },
  {
   "cell_type": "markdown",
   "metadata": {},
   "source": [
    "\n",
    "## Functions"
   ]
  },
  {
   "cell_type": "markdown",
   "metadata": {},
   "source": [
    "##### User-Defined vs. Built-In Functions"
   ]
  },
  {
   "cell_type": "code",
   "execution_count": 4,
   "metadata": {},
   "outputs": [
    {
     "name": "stdout",
     "output_type": "stream",
     "text": [
      "Hello\n"
     ]
    },
    {
     "data": {
      "text/plain": [
       "'Hello World'"
      ]
     },
     "execution_count": 4,
     "metadata": {},
     "output_type": "execute_result"
    }
   ],
   "source": [
    "# Built-in Function\n",
    "print(\"Hello\")\n",
    "\n",
    "# User Defined Function\n",
    "def say_hello():\n",
    "    return \"Hello World\"\n",
    "\n",
    "say_hello()"
   ]
  },
  {
   "cell_type": "markdown",
   "metadata": {},
   "source": [
    "##### Accepting Parameters"
   ]
  },
  {
   "cell_type": "code",
   "execution_count": 5,
   "metadata": {
    "scrolled": true
   },
   "outputs": [
    {
     "data": {
      "text/plain": [
       "1"
      ]
     },
     "execution_count": 5,
     "metadata": {},
     "output_type": "execute_result"
    }
   ],
   "source": [
    "# Parameters are positional\n",
    "\n",
    "def print_something(something):\n",
    "    return something\n",
    "    \n",
    "print_something(1)"
   ]
  },
  {
   "cell_type": "markdown",
   "metadata": {},
   "source": [
    "##### Default Parameters"
   ]
  },
  {
   "cell_type": "code",
   "execution_count": 15,
   "metadata": {},
   "outputs": [
    {
     "name": "stdout",
     "output_type": "stream",
     "text": [
      "James Bond\n",
      "James Smith\n",
      "Jimmy Bond\n",
      "Jimmy Brown\n"
     ]
    }
   ],
   "source": [
    "# Default parameters must come after non-default parameters at all times\n",
    "def agent_name(first, last = 'Bond'):\n",
    "    return first + \" \" + last\n",
    "\n",
    "print(agent_name('James'))\n",
    "print(agent_name('James','Smith'))\n",
    "print(agent_name(first='Jimmy'))\n",
    "print(agent_name(last=\"Brown\", first='Jimmy'))"
   ]
  },
  {
   "cell_type": "markdown",
   "metadata": {},
   "source": [
    "##### Making an Argument Optional"
   ]
  },
  {
   "cell_type": "code",
   "execution_count": 21,
   "metadata": {},
   "outputs": [
    {
     "name": "stdout",
     "output_type": "stream",
     "text": [
      "Hello Mr. Ed.\n",
      "Hello Mr. The Horse Ed.\n",
      "Hello Mr. Epona.\n"
     ]
    }
   ],
   "source": [
    "def print_horse_name(first, middle = \"\", last = \"Ed\"):\n",
    "    return f\"Hello {first} {middle}{last}.\"\n",
    "\n",
    "print(print_horse_name('Mr.'))\n",
    "print(print_horse_name('Mr.', 'The Horse '))\n",
    "print(print_horse_name('Mr.', last = 'Epona'))"
   ]
  },
  {
   "cell_type": "markdown",
   "metadata": {},
   "source": [
    "##### Keyword Arguments"
   ]
  },
  {
   "cell_type": "code",
   "execution_count": 22,
   "metadata": {},
   "outputs": [
    {
     "name": "stdout",
     "output_type": "stream",
     "text": [
      "Bruce's power is money\n"
     ]
    }
   ],
   "source": [
    "def print_hero(name, power=\"flying\"):\n",
    "    return f\"{name}'s power is {power}\"\n",
    "print(print_hero(power=\"money\", name=\"Bruce\"))"
   ]
  },
  {
   "cell_type": "markdown",
   "metadata": {},
   "source": [
    "# Creating a start, stop, step function"
   ]
  },
  {
   "cell_type": "code",
   "execution_count": 28,
   "metadata": {},
   "outputs": [
    {
     "name": "stdout",
     "output_type": "stream",
     "text": [
      "0\n",
      "1\n",
      "2\n",
      "3\n",
      "4\n",
      "5\n",
      "6\n",
      "7\n",
      "8\n",
      "9\n",
      "10\n",
      "11\n",
      "12\n",
      "13\n",
      "14\n",
      "0\n",
      "2\n",
      "4\n",
      "6\n",
      "8\n"
     ]
    },
    {
     "data": {
      "text/plain": [
       "'Hey great job'"
      ]
     },
     "execution_count": 28,
     "metadata": {},
     "output_type": "execute_result"
    }
   ],
   "source": [
    "def my_range(stop, start = 0, step = 1):\n",
    "    for i in range(start, stop, step):\n",
    "        print(i)\n",
    "    return \"Hey great job\"\n",
    "\n",
    "my_range(15)\n",
    "\n",
    "my_range(10, step = 2)"
   ]
  },
  {
   "cell_type": "markdown",
   "metadata": {},
   "source": [
    "##### Returning Values"
   ]
  },
  {
   "cell_type": "code",
   "execution_count": 30,
   "metadata": {},
   "outputs": [
    {
     "data": {
      "text/plain": [
       "'found him'"
      ]
     },
     "execution_count": 30,
     "metadata": {},
     "output_type": "execute_result"
    }
   ],
   "source": [
    "poke_list = ['charm', 'squirt', 'bulb', 'pika']\n",
    "\n",
    "def find_bulb():\n",
    "    for poke in poke_list:\n",
    "        if poke == 'bulb':\n",
    "            return 'found him'\n",
    "    return 'no bulb'\n",
    "\n",
    "find_bulb()"
   ]
  },
  {
   "cell_type": "markdown",
   "metadata": {},
   "source": [
    "##### *args / **kwargs (keyword arguments)"
   ]
  },
  {
   "cell_type": "code",
   "execution_count": 36,
   "metadata": {},
   "outputs": [
    {
     "name": "stdout",
     "output_type": "stream",
     "text": [
      "2\n",
      "('Mega Man', 'Cheetos', [1, 'Hello', 3])\n",
      "{'names': ['Jeong', 'Mike', 'Tenzin'], 'lang': 'python'}\n"
     ]
    }
   ],
   "source": [
    "# *args & **kwargs takes any number of arguments as parameters\n",
    "# if other parameters are present, *args must go last\n",
    "\n",
    "def print_args(num1, *args, **kwargs):\n",
    "    print(num1)\n",
    "    print(args)\n",
    "    print(kwargs)\n",
    "    \n",
    "print_args(2, \"Mega Man\", \"Cheetos\", [1,\"Hello\", 3], names = ['Jeong', 'Mike', 'Tenzin'], lang = 'python')"
   ]
  },
  {
   "cell_type": "code",
   "execution_count": 44,
   "metadata": {},
   "outputs": [
    {
     "name": "stdout",
     "output_type": "stream",
     "text": [
      "Mega Man\n",
      "Cheetos\n",
      "[1, 'Hello', 3]\n",
      "names ['Jeong', 'Mike', 'Tenzin']\n",
      "lang python\n",
      "2\n"
     ]
    }
   ],
   "source": [
    "# Wtie a function that accepts args and kwargs and prints out each argument on its own line.\n",
    "def print_args(num, *args, **kwargs):\n",
    "    for arg in args:\n",
    "        print(arg)\n",
    "        \n",
    "    for k,v in kwargs.items():\n",
    "        print(k,v)\n",
    "        \n",
    "    print(num)\n",
    "    \n",
    "print_args(2, \"Mega Man\", \"Cheetos\", [1,\"Hello\", 3], names = ['Jeong', 'Mike', 'Tenzin'], lang = 'python')"
   ]
  },
  {
   "cell_type": "markdown",
   "metadata": {},
   "source": [
    "##### Docstring"
   ]
  },
  {
   "cell_type": "code",
   "execution_count": 48,
   "metadata": {},
   "outputs": [
    {
     "name": "stdout",
     "output_type": "stream",
     "text": [
      "ryan\n",
      "alex\n",
      "jeong\n",
      "mike\n",
      "tenzin\n"
     ]
    },
    {
     "data": {
      "text/plain": [
       "'\\n    print_names(arr)\\n    Function requires a list to be passed as a parameter\\n    and will print contents of the list. Expecting a list of name\\n    as strings to be passed in.\\n    \\n    '"
      ]
     },
     "execution_count": 48,
     "metadata": {},
     "output_type": "execute_result"
    }
   ],
   "source": [
    "# really nice for leaving notes about functionality in your code\n",
    "# providing instructions\n",
    "\n",
    "def print_names(arr):\n",
    "    '''\n",
    "    print_names(arr)\n",
    "    Function requires a list to be passed as a parameter\n",
    "    and will print contents of the list. Expecting a list of name\n",
    "    as strings to be passed in.\n",
    "    \n",
    "    '''\n",
    "    for name in arr:\n",
    "        print(name)\n",
    "        \n",
    "print_names([\"ryan\", 'alex', 'jeong', 'mike', 'tenzin'])\n",
    "print_names.__doc__"
   ]
  },
  {
   "cell_type": "markdown",
   "metadata": {},
   "source": [
    "##### Using a User Function in a Loop"
   ]
  },
  {
   "cell_type": "code",
   "execution_count": 46,
   "metadata": {},
   "outputs": [
    {
     "name": "stdout",
     "output_type": "stream",
     "text": [
      "Wrtie your answer: hello\n",
      "Your answer is hello\n",
      "Are you ready to quit (y/n)? n\n",
      "Wrtie your answer: hi\n",
      "Your answer is hi\n",
      "Are you ready to quit (y/n)? y\n"
     ]
    }
   ],
   "source": [
    "def print_input(answer):\n",
    "    print(f\"Your answer is {answer}\")\n",
    "    \n",
    "while True:\n",
    "    ask = input(\"Wrtie your answer: \")\n",
    "    \n",
    "    print_input(ask)\n",
    "    \n",
    "    response = input(\"Are you ready to quit (y/n)? \")\n",
    "    \n",
    "    if response.lower() == 'y':\n",
    "        break"
   ]
  },
  {
   "cell_type": "markdown",
   "metadata": {},
   "source": [
    "## Function Exercises <br>\n",
    "### Exercise 1\n",
    "<p>Write a function that loops through a list of first_names and a list of last_names, combines the two and return a list of full_names</p>"
   ]
  },
  {
   "cell_type": "code",
   "execution_count": 17,
   "metadata": {},
   "outputs": [
    {
     "data": {
      "text/plain": [
       "['John Smith', 'Evan Smith', 'Jordan Williams', 'Max Bell']"
      ]
     },
     "execution_count": 17,
     "metadata": {},
     "output_type": "execute_result"
    }
   ],
   "source": [
    "first_name = ['John', 'Evan', 'Jordan', 'Max']\n",
    "last_name = ['Smith', 'Smith', 'Williams', 'Bell']\n",
    "\n",
    "# Output: ['John Smith', 'Evan Smith', 'Jordan Williams', 'Max Bell']\n",
    "\n",
    "def full_name(first_name, last_name):\n",
    "    return [first_name[i] + \" \" + last_name[i] for i in range(len(first_name))]\n",
    "\n",
    "full_name(first_name, last_name)"
   ]
  },
  {
   "cell_type": "markdown",
   "metadata": {},
   "source": [
    "### Exercise 2\n",
    "Create a function that alters all values in the given list by subtracting 5 and then doubling them."
   ]
  },
  {
   "cell_type": "code",
   "execution_count": 33,
   "metadata": {},
   "outputs": [
    {
     "data": {
      "text/plain": [
       "[0, 10, 20, 30, -4]"
      ]
     },
     "execution_count": 33,
     "metadata": {},
     "output_type": "execute_result"
    }
   ],
   "source": [
    "input_list = [5,10,15,20,3]\n",
    "# output = [0,10,20,30,-4]\n",
    "\n",
    "def fun_math(lst):\n",
    "    return [(x-5)*2 for x in lst]\n",
    "\n",
    "fun_math(input_list)"
   ]
  },
  {
   "cell_type": "markdown",
   "metadata": {},
   "source": [
    "### Exercise 3\n",
    "Create a function that takes in a list of strings and filters out the strings that DO NOT contain vowels. "
   ]
  },
  {
   "cell_type": "code",
   "execution_count": 70,
   "metadata": {},
   "outputs": [
    {
     "data": {
      "text/plain": [
       "['Sheldon', 'Leonard', 'Amy']"
      ]
     },
     "execution_count": 70,
     "metadata": {},
     "output_type": "execute_result"
    }
   ],
   "source": [
    "string_list = ['Sheldon','Pnny','Leonard','Hwrd','Rj','Amy','Strt']\n",
    "# output = ['Sheldon','Leonard','Amy']\n",
    "\n",
    "def contain_vowel_list(lst):\n",
    "    vowels = ('a','e','i','o','u')\n",
    "    l = []\n",
    "    for s in lst:\n",
    "        for c in s:\n",
    "            if c.lower() in vowels:\n",
    "                l.append(s)\n",
    "                break\n",
    "    return l\n",
    "\n",
    "contain_vowel_list(string_list)"
   ]
  },
  {
   "cell_type": "markdown",
   "metadata": {},
   "source": [
    "### Exercise 4\n",
    "Create a function that accepts a list as a parameter and returns a dictionary containing the list items as it's keys, and the number of times they appear in the list as the values"
   ]
  },
  {
   "cell_type": "code",
   "execution_count": 31,
   "metadata": {},
   "outputs": [
    {
     "data": {
      "text/plain": [
       "{'Harry': 3, 'Hermione': 2, 'Ron': 4, 'Dobby': 1, 'Draco': 1, 'Luna': 1}"
      ]
     },
     "execution_count": 31,
     "metadata": {},
     "output_type": "execute_result"
    }
   ],
   "source": [
    "example_list = [\"Harry\", 'Hermione','Harry','Ron','Dobby','Draco','Luna','Harry','Hermione','Ron','Ron','Ron']\n",
    "\n",
    "# output = {\n",
    "#     \"Harry\":3,\n",
    "#     \"Hermione\":2,\n",
    "#     \"Ron\":4,\n",
    "#     \"Dobby\":1,\n",
    "#     \"Draco\":1,\n",
    "#     \"Luna\": 1\n",
    "# }\n",
    "\n",
    "def fan_votes(lst):\n",
    "    votes = {}\n",
    "    for name in lst:\n",
    "        if name not in votes:\n",
    "            votes[name] = 1\n",
    "        else:\n",
    "            votes[name] += 1\n",
    "    return votes\n",
    "\n",
    "fan_votes(example_list)"
   ]
  },
  {
   "cell_type": "markdown",
   "metadata": {},
   "source": [
    "\n",
    "\n",
    "## Scope <br>\n",
    "<p>Scope refers to the ability to access variables, different types of scope include:<br>a) Global<br>b) Function (local)<br>c) Class (local)</p>"
   ]
  },
  {
   "cell_type": "code",
   "execution_count": 117,
   "metadata": {},
   "outputs": [
    {
     "name": "stdout",
     "output_type": "stream",
     "text": [
      "3\n",
      "6\n"
     ]
    }
   ],
   "source": [
    "# placement of variable declaration matters\n",
    "\n",
    "number = 3 # Gloal Variable\n",
    "\n",
    "def myFunc():\n",
    "    num_3 = 6 # Local Function Variable\n",
    "    return num_3\n",
    "\n",
    "print(number)\n",
    "return_num = myFunc()\n",
    "print(return_num)"
   ]
  },
  {
   "cell_type": "markdown",
   "metadata": {},
   "source": [
    "# Homework Exercises"
   ]
  },
  {
   "cell_type": "markdown",
   "metadata": {},
   "source": [
    "## Exercise 1 <br>\n",
    "<p>Given a list as a parameter,write a function that returns a list of numbers that are less than ten</b></i></p><br>\n",
    "<p> For example: Say your input parameter to the function is [1,11,14,5,8,9]...Your output should [1,5,8,9]</p>"
   ]
  },
  {
   "cell_type": "code",
   "execution_count": 49,
   "metadata": {},
   "outputs": [
    {
     "data": {
      "text/plain": [
       "[1, 5, 8, 9]"
      ]
     },
     "execution_count": 49,
     "metadata": {},
     "output_type": "execute_result"
    }
   ],
   "source": [
    "# Use the following list - [1,11,14,5,8,9]\n",
    "\n",
    "l_1 = [1,11,14,5,8,9]\n",
    "\n",
    "def less_than_ten(lst):\n",
    "    return [num for num in lst if num < 10]\n",
    "\n",
    "less_than_ten(l_1)"
   ]
  },
  {
   "cell_type": "markdown",
   "metadata": {},
   "source": [
    "## Exercise 2 <br>\n",
    "<p>Write a function that takes in two lists and returns the two lists merged together and sorted<br>\n",
    "<b><i>Hint: You can use the .sort() method</i></b></p>"
   ]
  },
  {
   "cell_type": "code",
   "execution_count": 50,
   "metadata": {},
   "outputs": [
    {
     "data": {
      "text/plain": [
       "[1, 2, 3, 3, 4, 4, 5, 5, 6, 6, 7, 8, 10]"
      ]
     },
     "execution_count": 50,
     "metadata": {},
     "output_type": "execute_result"
    }
   ],
   "source": [
    "l_1 = [1,2,3,4,5,6]\n",
    "l_2 = [3,4,5,6,7,8,10]\n",
    "\n",
    "def merge_sort(l_1,l_2):\n",
    "    return sorted(l_1+l_2)\n",
    "\n",
    "merge_sort(l_1, l_2)"
   ]
  },
  {
   "cell_type": "markdown",
   "metadata": {},
   "source": [
    "## Exercise 3 <br>\n",
    "<p>Create a function which given an array of integers, return an array, where the first element is the count of\n",
    "positives numbers and the second element is sum of negative numbers. 0 is neither positive nor negative.\n",
    "If the input array is empty or null, return an empty array.</p><br>\n"
   ]
  },
  {
   "cell_type": "code",
   "execution_count": 71,
   "metadata": {},
   "outputs": [
    {
     "name": "stdout",
     "output_type": "stream",
     "text": [
      "[49, -164]\n",
      "[]\n"
     ]
    }
   ],
   "source": [
    "arr = [2, -4, 5, 3, 12, -104, -56, 27, 0]\n",
    "\n",
    "def sum_pos_neg(lst):\n",
    "    if lst:\n",
    "        pos = 0\n",
    "        neg = 0\n",
    "        for num in lst:\n",
    "            if num > 0:\n",
    "                pos += num\n",
    "            else:\n",
    "                neg += num\n",
    "        return [pos,neg]\n",
    "    else:\n",
    "        return []\n",
    " \n",
    "print(sum_pos_neg(arr))\n",
    "print(sum_pos_neg([]))"
   ]
  },
  {
   "cell_type": "markdown",
   "metadata": {},
   "source": [
    "## Exercise 4 <br>\n",
    "<p>Create a function that returns the sum of the two lowest positive numbers given\n",
    "an array of minimum 4 positive integers. No floats or non-positive integers will be passed.</p>"
   ]
  },
  {
   "cell_type": "code",
   "execution_count": 73,
   "metadata": {},
   "outputs": [
    {
     "name": "stdout",
     "output_type": "stream",
     "text": [
      "26\n",
      "26\n",
      "26\n",
      "0\n",
      "68\n"
     ]
    }
   ],
   "source": [
    "pos_arr = [6, 20, 48, 96, 109, 10034]\n",
    "neg_arr = [-6, -20, -48, -96, -109, -10034]\n",
    "mixed_arr = [-6, 20, 48, -96, 109, -10034]\n",
    "\n",
    "\n",
    "def lowest_sum(lst):\n",
    "    return lst.pop(lst.index(min(lst))) + lst.pop(lst.index(min(lst)))\n",
    "\n",
    "print(lowest_sum(pos_arr))\n",
    "\n",
    "pos_arr = [6, 20, 48, 96, 109, 10034]\n",
    "\n",
    "def lowest_sum_2(lst):\n",
    "    return sum(sorted(lst)[0:2])\n",
    "\n",
    "print(lowest_sum_2(pos_arr))\n",
    "\n",
    "pos_arr = [6, 20, 48, 96, 109, 10034]\n",
    "\n",
    "# this function will work with negative integers as well. if the list are all negative ints, returns 0\n",
    "def lowest_pos_sum(lst):\n",
    "    pos_lst = [num for num in lst if num > 0]\n",
    "    if pos_lst:\n",
    "        min1 = min(pos_lst)\n",
    "        pos_lst.remove(min1)\n",
    "        min2 = min(pos_lst)\n",
    "        return min1 + min2\n",
    "    else:\n",
    "        return 0\n",
    "\n",
    "print(lowest_pos_sum(pos_arr))\n",
    "print(lowest_pos_sum(neg_arr))\n",
    "print(lowest_pos_sum(mixed_arr))"
   ]
  },
  {
   "cell_type": "markdown",
   "metadata": {},
   "source": [
    "## Exercise 5 <br>\n",
    "<p>Write a function that when given a list of items will return the \n",
    "item that appears the most times in the list. \n",
    "If two or more items appear the same amount of times, output all items in a list.\n",
    "\n",
    "Example Input = ['Orange', 'Apple', 'Bear', 3, 7, 'Tree', 'Orange', 'Tree']\n",
    "Example Out = ['Orange', 'Tree']\n",
    "\n",
    "#Hint (a counter dictionary might be helpful)</p>"
   ]
  },
  {
   "cell_type": "code",
   "execution_count": 69,
   "metadata": {},
   "outputs": [
    {
     "data": {
      "text/plain": [
       "['Orange', 'Tree']"
      ]
     },
     "execution_count": 69,
     "metadata": {},
     "output_type": "execute_result"
    }
   ],
   "source": [
    "def highest_count(lst):\n",
    "    count = {}\n",
    "    \n",
    "    for item in lst:\n",
    "        if item not in count:\n",
    "            count[item] = 1\n",
    "        else:\n",
    "            count[item] += 1\n",
    "            \n",
    "    highest_count = max(count.values())\n",
    "    \n",
    "    return [k for k,v in count.items() if v==highest_count]\n",
    "\n",
    "highest_count(['Orange', 'Apple', 'Bear', 3, 7, 'Tree', 'Orange', 'Tree'])"
   ]
  }
 ],
 "metadata": {
  "kernelspec": {
   "display_name": "Python 3 (ipykernel)",
   "language": "python",
   "name": "python3"
  },
  "language_info": {
   "codemirror_mode": {
    "name": "ipython",
    "version": 3
   },
   "file_extension": ".py",
   "mimetype": "text/x-python",
   "name": "python",
   "nbconvert_exporter": "python",
   "pygments_lexer": "ipython3",
   "version": "3.9.13"
  }
 },
 "nbformat": 4,
 "nbformat_minor": 2
}
